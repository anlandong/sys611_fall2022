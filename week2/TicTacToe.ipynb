{
 "cells": [
  {
   "cell_type": "markdown",
   "metadata": {},
   "source": [
    "# SYS-611: Tic-Tac-Toe Example\n",
    "\n",
    "Paul T. Grogan <pgrogan@stevens.edu>\n",
    "\n",
    "This example shows how to model a tic-tac-toe game in Python.\n",
    "\n",
    "## Elementary State Variables\n",
    "\n",
    "The main state variable in tic-tac-toe records what mark is in each of the nine cells. The easiest way to store this information in Python is using a matrix (list of lists). The following code creates a variable named `state` that has three rows, each with three cells. The value of each cell is initialized to a blank space `\" \"`. If printed to the console, you will see a \"list of lists\" filled with blank spaces."
   ]
  },
  {
   "cell_type": "code",
   "execution_count": 1,
   "metadata": {
    "id": "E4zoHRkBnKjN"
   },
   "outputs": [
    {
     "name": "stdout",
     "output_type": "stream",
     "text": [
      "[[' ', ' ', ' '], [' ', ' ', ' '], [' ', ' ', ' ']]\n"
     ]
    }
   ],
   "source": [
    "state = [\n",
    "    [\" \", \" \", \" \"],\n",
    "    [\" \", \" \", \" \"],\n",
    "    [\" \", \" \", \" \"]\n",
    "]\n",
    "print(state)"
   ]
  },
  {
   "cell_type": "markdown",
   "metadata": {},
   "source": [
    "As a helper function to better visualize the state, we can use the pandas library to format the visual output as a table."
   ]
  },
  {
   "cell_type": "code",
   "execution_count": 2,
   "metadata": {},
   "outputs": [
    {
     "name": "stdout",
     "output_type": "stream",
     "text": [
      "   0  1  2\n",
      "0         \n",
      "1         \n",
      "2         \n"
     ]
    }
   ],
   "source": [
    "import pandas as pd\n",
    "\n",
    "def show_grid(state):\n",
    "    \"\"\"\n",
    "    Show the game state using a pandas data frame.\n",
    "    \"\"\"\n",
    "    print(pd.DataFrame(state))\n",
    "\n",
    "show_grid(state)"
   ]
  },
  {
   "cell_type": "markdown",
   "metadata": {},
   "source": [
    "## Derived State Variables\n",
    "\n",
    "There are many possible derived state variables which perform a computation based on the elementary state variable. For example, a derived state variable that counts the number of empty cells can be implemented as:"
   ]
  },
  {
   "cell_type": "code",
   "execution_count": 3,
   "metadata": {},
   "outputs": [
    {
     "data": {
      "text/plain": [
       "9"
      ]
     },
     "execution_count": 3,
     "metadata": {},
     "output_type": "execute_result"
    }
   ],
   "source": [
    "def count_empty_cells(state):\n",
    "    \"\"\"\n",
    "    Count the number of empty cells in a game state.\n",
    "    \"\"\"\n",
    "    count = 0\n",
    "    # loop over each row\n",
    "    for i in range(3):\n",
    "        # loop over each column\n",
    "        for j in range(3):\n",
    "            # if the cell value is blank (\" \")\n",
    "            if state[i][j] == \" \":\n",
    "                # increment the count\n",
    "                count += 1\n",
    "    return count\n",
    "\n",
    "count_empty_cells(state)"
   ]
  },
  {
   "cell_type": "markdown",
   "metadata": {},
   "source": [
    "A more compact notation for the above function using a generator expression with the `sum` function to count the number of cells with value equal to `\" \"` could be:"
   ]
  },
  {
   "cell_type": "code",
   "execution_count": 4,
   "metadata": {},
   "outputs": [
    {
     "data": {
      "text/plain": [
       "9"
      ]
     },
     "execution_count": 4,
     "metadata": {},
     "output_type": "execute_result"
    }
   ],
   "source": [
    "def count_empty_cells(state):\n",
    "    \"\"\"\n",
    "    Count the number of empty cells in a game state.\n",
    "    \"\"\"\n",
    "    # count the number of cells with value \" \"\n",
    "    return sum(cell==\" \" for row in state for cell in row)\n",
    "\n",
    "count_empty_cells(state)"
   ]
  },
  {
   "cell_type": "markdown",
   "metadata": {},
   "source": [
    "An additional derived state variable may check to see if a move at location `row,col` is valid, i.e., that the cell at that position is currently blank."
   ]
  },
  {
   "cell_type": "code",
   "execution_count": 5,
   "metadata": {},
   "outputs": [
    {
     "data": {
      "text/plain": [
       "True"
      ]
     },
     "execution_count": 5,
     "metadata": {},
     "output_type": "execute_result"
    }
   ],
   "source": [
    "def is_valid(row, col):\n",
    "    \"\"\"\n",
    "    Determine if the location (row,col) is valid for a move.\n",
    "    \"\"\"\n",
    "    return state[row][col] == \" \"\n",
    "\n",
    "is_valid(0,0)"
   ]
  },
  {
   "cell_type": "markdown",
   "metadata": {},
   "source": [
    "## State Transition Functions\n",
    "\n",
    "State transition (or change) functions perform an action to change the elementary state. Here, we may define a function to mark a location `row,col` with a designated character."
   ]
  },
  {
   "cell_type": "code",
   "execution_count": 6,
   "metadata": {},
   "outputs": [
    {
     "name": "stdout",
     "output_type": "stream",
     "text": [
      "   0  1  2\n",
      "0         \n",
      "1         \n",
      "2         \n",
      "   0  1  2\n",
      "0         \n",
      "1     x   \n",
      "2         \n",
      "   0  1  2\n",
      "0         \n",
      "1     x   \n",
      "2         \n",
      "   0  1  2\n",
      "0  o      \n",
      "1     x   \n",
      "2         \n"
     ]
    }
   ],
   "source": [
    "def mark_x(state, row, col):\n",
    "    \"\"\"\n",
    "    Attempt to make an x mark at location (row, col)\n",
    "    \"\"\"\n",
    "    # check if this is a valid move\n",
    "    if is_valid(row, col):\n",
    "        # if valid, update the state accordingly\n",
    "        state[row][col] = \"x\"\n",
    "\n",
    "# define a function to mark an 'o' at a row and column\n",
    "def mark_o(state, row, col):\n",
    "    \"\"\"\n",
    "    Attempt to make an o mark at location (row, col)\n",
    "    \"\"\"\n",
    "    # check if this is a valid move\n",
    "    if is_valid(row, col):\n",
    "        # if valid, update the state accordingly\n",
    "        state[row][col] = \"o\"\n",
    "\n",
    "show_grid(state)\n",
    "mark_x(state, 1,1)\n",
    "show_grid(state)\n",
    "mark_o(state, 1,1)\n",
    "show_grid(state)\n",
    "mark_o(state, 0,0)\n",
    "show_grid(state)"
   ]
  },
  {
   "cell_type": "markdown",
   "metadata": {},
   "source": [
    "Another state transition function may be used to clear the board."
   ]
  },
  {
   "cell_type": "code",
   "execution_count": 7,
   "metadata": {},
   "outputs": [
    {
     "name": "stdout",
     "output_type": "stream",
     "text": [
      "   0  1  2\n",
      "0  o      \n",
      "1     x   \n",
      "2         \n",
      "   0  1  2\n",
      "0         \n",
      "1         \n",
      "2         \n"
     ]
    }
   ],
   "source": [
    "def reset_game(state):\n",
    "    \"\"\"\n",
    "    Reset the game state, returning every cell to a blank space.\n",
    "    \"\"\"\n",
    "    # loop over each row\n",
    "    for i in range(3):\n",
    "        # loop over each column\n",
    "        for j in range(3):\n",
    "            # empty the state location at (i,j)\n",
    "            state[i][j] = \" \"\n",
    "\n",
    "show_grid(state)\n",
    "reset_game(state)\n",
    "show_grid(state)"
   ]
  },
  {
   "cell_type": "markdown",
   "metadata": {},
   "source": [
    "## Homework Problem\n",
    "\n",
    "As a part of the homework this week, try implementing the two derived state functions below to determine the winner, if there is one (`\"x\"` or `\"o\"` or `None`) and whether the game state has a tie (`True` or `False`)."
   ]
  },
  {
   "cell_type": "code",
   "execution_count": 21,
   "metadata": {},
   "outputs": [],
   "source": [
    "import numpy as np\n",
    "def get_winner(state):\n",
    "    \"\"\"\n",
    "    Check if there is a winner for this game. \n",
    "    If there is a winner, return the corresponding letter (\"x\" or \"o\"). \n",
    "    Otherwise, return the special value None.\n",
    "    \"\"\"\n",
    "    # check rows:\n",
    "    for row in state: \n",
    "        if len(set(row)) == 1:\n",
    "            return row[0]\n",
    "    # check column by transposing it as rows\n",
    "    transposed_state = np.transpose(state)\n",
    "    for row in transposed_state:\n",
    "        if len(set(row)) == 1: \n",
    "            return row[0]\n",
    "    # check diagonal: \n",
    "    n = len(state) \n",
    "    diagonal_1 = [state[i][i] for i in range(n)]\n",
    "    diagonal_2 = [state[i][-1-i] for i in range(n)]\n",
    "    if len(set(diagonal_1)) == 1:\n",
    "        return diagonal_1[0][0]\n",
    "    if len(set(diagonal_2)) == 1:\n",
    "        return diagonal_2[0][-1]\n",
    "    return None\n",
    "         \n",
    "\n",
    "def is_tie(state):\n",
    "    \"\"\"\n",
    "    Check if the current game state is considered a tie (i.e., no winner is possible). \n",
    "    Return True if it is a tie, False otherwise.\n",
    "    \"\"\"\n",
    "     # check rows:\n",
    "    for row in state: \n",
    "        if len(set(row)) == 2 and ' ' not in row:\n",
    "            return True\n",
    "    # check column by transposing it as rows\n",
    "    transposed_state = np.transpose(state)\n",
    "    for row in transposed_state :\n",
    "        if len(set(row)) == 2 and ' ' not in row: \n",
    "            return True\n",
    "    # check diagonal: \n",
    "    n = len(state) \n",
    "    diagonal_1 = [state[i][i] for i in range(n)]\n",
    "    diagonal_2 = [state[i][-1-i] for i in range(n)]\n",
    "    if len(set(diagonal_1)) == 1 and ' ' not in row:\n",
    "        return True\n",
    "    if len(set(diagonal_2)) == 1 and ' ' not in row:\n",
    "        return True\n",
    "    return False\n",
    "\n",
    "    "
   ]
  },
  {
   "cell_type": "code",
   "execution_count": 22,
   "metadata": {},
   "outputs": [],
   "source": [
    "test_state1 = [\n",
    "    [\"o\", \"x\", \" \"],\n",
    "    [\" \", \"o\", \"x\"],\n",
    "    [\" \", \" \", \"o\"]\n",
    "]\n",
    "test_state2 = [\n",
    "    [\"o\", \" \", \"x\"],\n",
    "    [\"o\", \" \", \"x\"],\n",
    "    [\"o\", \" \", \" \"]\n",
    "]\n",
    "test_state3 = [\n",
    "    [\"o\", \"o\", \"o\"],\n",
    "    [\" \", \"x\", \"x\"],\n",
    "    [\" \", \" \", \" \"]\n",
    "]\n",
    "test_state4 = [\n",
    "    [\"o\", \"x\", \"x\"],\n",
    "    [\"x\", \"o\", \"x\"],\n",
    "    [\"x\", \"x\", \"o\"]\n",
    "]"
   ]
  },
  {
   "cell_type": "code",
   "execution_count": 24,
   "metadata": {},
   "outputs": [
    {
     "data": {
      "text/plain": [
       "False"
      ]
     },
     "execution_count": 24,
     "metadata": {},
     "output_type": "execute_result"
    }
   ],
   "source": [
    "is_tie(test_state3)"
   ]
  },
  {
   "cell_type": "code",
   "execution_count": 27,
   "metadata": {},
   "outputs": [
    {
     "data": {
      "text/plain": [
       "'o'"
      ]
     },
     "execution_count": 27,
     "metadata": {},
     "output_type": "execute_result"
    }
   ],
   "source": [
    "get_winner(test_state3)"
   ]
  },
  {
   "cell_type": "code",
   "execution_count": null,
   "metadata": {},
   "outputs": [],
   "source": []
  }
 ],
 "metadata": {
  "colab": {
   "name": "ticTacToe.ipynb",
   "provenance": []
  },
  "kernelspec": {
   "display_name": "Python 3.10.4 ('coned')",
   "language": "python",
   "name": "python3"
  },
  "language_info": {
   "codemirror_mode": {
    "name": "ipython",
    "version": 3
   },
   "file_extension": ".py",
   "mimetype": "text/x-python",
   "name": "python",
   "nbconvert_exporter": "python",
   "pygments_lexer": "ipython3",
   "version": "3.10.4"
  },
  "vscode": {
   "interpreter": {
    "hash": "a69ed5f5756fdb2ccfd9e399ff4c433cb084b26fb48432bd43634b5729824724"
   }
  }
 },
 "nbformat": 4,
 "nbformat_minor": 1
}
